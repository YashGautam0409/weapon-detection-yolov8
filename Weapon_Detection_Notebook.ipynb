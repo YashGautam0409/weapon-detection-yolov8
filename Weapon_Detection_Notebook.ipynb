{
 "cells": [
  {
   "cell_type": "code",
   "execution_count": null,
   "metadata": {
    "_cell_guid": "b1076dfc-b9ad-4769-8c92-a6c4dae69d19",
    "_uuid": "8f2839f25d086af736a60e9eeb907d3b93b6e0e5",
    "execution": {
     "iopub.execute_input": "2025-06-11T18:37:55.129998Z",
     "iopub.status.busy": "2025-06-11T18:37:55.129383Z",
     "iopub.status.idle": "2025-06-11T18:39:09.894511Z",
     "shell.execute_reply": "2025-06-11T18:39:09.893822Z",
     "shell.execute_reply.started": "2025-06-11T18:37:55.129974Z"
    },
    "trusted": true
   },
   "outputs": [],
   "source": [
    "!pip install ultralytics"
   ]
  },
  {
   "cell_type": "code",
   "execution_count": null,
   "metadata": {
    "execution": {
     "iopub.execute_input": "2025-06-11T18:39:09.896180Z",
     "iopub.status.busy": "2025-06-11T18:39:09.895911Z",
     "iopub.status.idle": "2025-06-11T18:39:13.809055Z",
     "shell.execute_reply": "2025-06-11T18:39:13.808515Z",
     "shell.execute_reply.started": "2025-06-11T18:39:09.896149Z"
    },
    "trusted": true
   },
   "outputs": [],
   "source": [
    "from IPython import display\n",
    "display.clear_output()\n",
    "\n",
    "import ultralytics\n",
    "ultralytics.checks()"
   ]
  },
  {
   "cell_type": "code",
   "execution_count": null,
   "metadata": {
    "execution": {
     "iopub.execute_input": "2025-06-11T18:39:13.810243Z",
     "iopub.status.busy": "2025-06-11T18:39:13.809838Z",
     "iopub.status.idle": "2025-06-11T18:39:13.813670Z",
     "shell.execute_reply": "2025-06-11T18:39:13.813078Z",
     "shell.execute_reply.started": "2025-06-11T18:39:13.810216Z"
    },
    "trusted": true
   },
   "outputs": [],
   "source": [
    "from ultralytics import YOLO\n",
    "\n",
    "from IPython.display import display, Image"
   ]
  },
  {
   "cell_type": "code",
   "execution_count": null,
   "metadata": {
    "execution": {
     "iopub.execute_input": "2025-06-11T18:39:13.815553Z",
     "iopub.status.busy": "2025-06-11T18:39:13.815301Z",
     "iopub.status.idle": "2025-06-11T18:40:59.506465Z",
     "shell.execute_reply": "2025-06-11T18:40:59.505762Z",
     "shell.execute_reply.started": "2025-06-11T18:39:13.815530Z"
    },
    "trusted": true
   },
   "outputs": [],
   "source": [
    "import os\n",
    "import xml.etree.ElementTree as ET\n",
    "from tqdm import tqdm\n",
    "\n",
    "# 🔁 Define paths (update if needed)\n",
    "train_ann_path = \"/kaggle/input/weapon-detection-dataset-02/train/VOC2007/Annotations\"\n",
    "valid_ann_path = \"/kaggle/input/weapon-detection-dataset-02/valid/VOC2007/Annotations\"\n",
    "\n",
    "train_lbl_path = \"/kaggle/working/train_labels\"\n",
    "valid_lbl_path = \"/kaggle/working/valid_labels\"\n",
    "\n",
    "os.makedirs(train_lbl_path, exist_ok=True)\n",
    "os.makedirs(valid_lbl_path, exist_ok=True)\n",
    "\n",
    "# 🔖 Class names (must match the names in your dataset exactly!)\n",
    "classes = ['grenade', 'knife', 'pistol', 'rifle']  # 0-indexed\n",
    "\n",
    "# 🔁 Conversion function\n",
    "def convert_voc_to_yolo(ann_dir, output_dir):\n",
    "    for xml_file in tqdm(os.listdir(ann_dir)):\n",
    "        if not xml_file.endswith(\".xml\"):\n",
    "            continue\n",
    "\n",
    "        tree = ET.parse(os.path.join(ann_dir, xml_file))\n",
    "        root = tree.getroot()\n",
    "\n",
    "        size = root.find(\"size\")\n",
    "        w = int(size.find(\"width\").text)\n",
    "        h = int(size.find(\"height\").text)\n",
    "\n",
    "        lines = []\n",
    "\n",
    "        for obj in root.findall(\"object\"):\n",
    "            cls = obj.find(\"name\").text\n",
    "            if cls not in classes:\n",
    "                continue\n",
    "            cls_id = classes.index(cls)\n",
    "\n",
    "            xml_box = obj.find(\"bndbox\")\n",
    "            xmin = int(xml_box.find(\"xmin\").text)\n",
    "            ymin = int(xml_box.find(\"ymin\").text)\n",
    "            xmax = int(xml_box.find(\"xmax\").text)\n",
    "            ymax = int(xml_box.find(\"ymax\").text)\n",
    "\n",
    "            # YOLO format: class x_center y_center width height (normalized)\n",
    "            x_center = (xmin + xmax) / 2 / w\n",
    "            y_center = (ymin + ymax) / 2 / h\n",
    "            box_w = (xmax - xmin) / w\n",
    "            box_h = (ymax - ymin) / h\n",
    "\n",
    "            line = f\"{cls_id} {x_center:.6f} {y_center:.6f} {box_w:.6f} {box_h:.6f}\"\n",
    "            lines.append(line)\n",
    "\n",
    "        # Save as .txt\n",
    "        txt_filename = os.path.splitext(xml_file)[0] + \".txt\"\n",
    "        with open(os.path.join(output_dir, txt_filename), \"w\") as f:\n",
    "            f.write(\"\\n\".join(lines))\n",
    "\n",
    "# 🔄 Run conversion for train and valid sets\n",
    "convert_voc_to_yolo(train_ann_path, train_lbl_path)\n",
    "convert_voc_to_yolo(valid_ann_path, valid_lbl_path)\n",
    "\n",
    "print(\"Conversion complete!\")\n"
   ]
  },
  {
   "cell_type": "code",
   "execution_count": null,
   "metadata": {
    "execution": {
     "iopub.execute_input": "2025-06-11T18:40:59.507461Z",
     "iopub.status.busy": "2025-06-11T18:40:59.507210Z",
     "iopub.status.idle": "2025-06-11T18:43:34.410262Z",
     "shell.execute_reply": "2025-06-11T18:43:34.409343Z",
     "shell.execute_reply.started": "2025-06-11T18:40:59.507433Z"
    },
    "trusted": true
   },
   "outputs": [],
   "source": [
    "import os\n",
    "import shutil\n",
    "\n",
    "# Define paths\n",
    "train_img_src = \"/kaggle/input/weapon-detection-dataset-02/train/VOC2007/JPEGImages\"\n",
    "valid_img_src = \"/kaggle/input/weapon-detection-dataset-02/valid/VOC2007/JPEGImages\"\n",
    "\n",
    "train_lbl_src = \"/kaggle/working/train_labels\"\n",
    "valid_lbl_src = \"/kaggle/working/valid_labels\"\n",
    "\n",
    "train_dst = \"/kaggle/working/train\"\n",
    "valid_dst = \"/kaggle/working/valid\"\n",
    "\n",
    "os.makedirs(train_dst + \"/images\", exist_ok=True)\n",
    "os.makedirs(train_dst + \"/labels\", exist_ok=True)\n",
    "os.makedirs(valid_dst + \"/images\", exist_ok=True)\n",
    "os.makedirs(valid_dst + \"/labels\", exist_ok=True)\n",
    "\n",
    "# Move images\n",
    "for f in os.listdir(train_img_src):\n",
    "    if f.endswith(\".jpg\") or f.endswith(\".png\"):\n",
    "        shutil.copy(os.path.join(train_img_src, f), train_dst + \"/images\")\n",
    "\n",
    "for f in os.listdir(valid_img_src):\n",
    "    if f.endswith(\".jpg\") or f.endswith(\".png\"):\n",
    "        shutil.copy(os.path.join(valid_img_src, f), valid_dst + \"/images\")\n",
    "\n",
    "# Move labels\n",
    "for f in os.listdir(train_lbl_src):\n",
    "    shutil.copy(os.path.join(train_lbl_src, f), train_dst + \"/labels\")\n",
    "\n",
    "for f in os.listdir(valid_lbl_src):\n",
    "    shutil.copy(os.path.join(valid_lbl_src, f), valid_dst + \"/labels\")\n",
    "\n",
    "print(\"Images and labels are organized for YOLOv8.\")\n"
   ]
  },
  {
   "cell_type": "code",
   "execution_count": null,
   "metadata": {
    "execution": {
     "iopub.execute_input": "2025-06-11T18:43:34.411487Z",
     "iopub.status.busy": "2025-06-11T18:43:34.411200Z",
     "iopub.status.idle": "2025-06-11T18:43:34.425891Z",
     "shell.execute_reply": "2025-06-11T18:43:34.425219Z",
     "shell.execute_reply.started": "2025-06-11T18:43:34.411459Z"
    },
    "trusted": true
   },
   "outputs": [],
   "source": [
    "import os\n",
    "\n",
    "image_dir = '/kaggle/working/valid/images'\n",
    "label_dir = '/kaggle/working/valid/labels'\n",
    "\n",
    "img_files = [f.replace('.jpg', '.txt') for f in os.listdir(image_dir) if f.endswith('.jpg')]\n",
    "lbl_files = os.listdir(label_dir)\n",
    "\n",
    "missing_labels = [f for f in img_files if f not in lbl_files]\n",
    "\n",
    "print(f\"Total images: {len(img_files)}\")\n",
    "print(f\"Matching labels: {len(lbl_files)}\")\n",
    "print(f\"Missing labels: {len(missing_labels)}\")\n"
   ]
  },
  {
   "cell_type": "code",
   "execution_count": null,
   "metadata": {
    "execution": {
     "iopub.execute_input": "2025-06-11T18:43:45.284252Z",
     "iopub.status.busy": "2025-06-11T18:43:45.283559Z",
     "iopub.status.idle": "2025-06-11T18:43:45.310553Z",
     "shell.execute_reply": "2025-06-11T18:43:45.310058Z",
     "shell.execute_reply.started": "2025-06-11T18:43:45.284231Z"
    },
    "trusted": true
   },
   "outputs": [],
   "source": [
    "import shutil\n",
    "\n",
    "src = \"/kaggle/working/valid_labels\"\n",
    "dst = \"/kaggle/working/valid/labels\"\n",
    "os.makedirs(dst, exist_ok=True)\n",
    "\n",
    "for f in os.listdir(src):\n",
    "    shutil.copy(os.path.join(src, f), dst)\n"
   ]
  },
  {
   "cell_type": "code",
   "execution_count": null,
   "metadata": {
    "execution": {
     "iopub.execute_input": "2025-06-11T18:43:56.257642Z",
     "iopub.status.busy": "2025-06-11T18:43:56.257063Z",
     "iopub.status.idle": "2025-06-11T18:43:56.262218Z",
     "shell.execute_reply": "2025-06-11T18:43:56.261482Z",
     "shell.execute_reply.started": "2025-06-11T18:43:56.257619Z"
    },
    "trusted": true
   },
   "outputs": [],
   "source": [
    "yaml_content = \"\"\"\n",
    "train: /kaggle/working/train/images\n",
    "val: /kaggle/working/valid/images\n",
    "\n",
    "nc: 4\n",
    "names: ['Handgun', 'Knife', 'Short_rifle', 'Rifle']\n",
    "\"\"\"\n",
    "\n",
    "with open(\"/kaggle/working/data.yaml\", \"w\") as f:\n",
    "    f.write(yaml_content.strip())\n",
    "\n",
    "print(\"Updated data.yaml saved.\")\n"
   ]
  },
  {
   "cell_type": "code",
   "execution_count": null,
   "metadata": {
    "execution": {
     "iopub.execute_input": "2025-06-11T18:44:04.205872Z",
     "iopub.status.busy": "2025-06-11T18:44:04.205612Z",
     "iopub.status.idle": "2025-06-11T18:44:04.470346Z",
     "shell.execute_reply": "2025-06-11T18:44:04.469572Z",
     "shell.execute_reply.started": "2025-06-11T18:44:04.205852Z"
    },
    "trusted": true
   },
   "outputs": [],
   "source": [
    "import os\n",
    "import xml.etree.ElementTree as ET\n",
    "from tqdm import tqdm\n",
    "\n",
    "# 💡 Class names exactly as found in the XML\n",
    "classes = ['Handgun', 'Knife', 'Short_rifle', 'Rifle']\n",
    "\n",
    "# 💾 Paths\n",
    "ann_dir = \"/kaggle/input/weapon-detection-dataset-02/valid/VOC2007/Annotations\"\n",
    "label_dir = \"/kaggle/working/valid_labels\"\n",
    "os.makedirs(label_dir, exist_ok=True)\n",
    "\n",
    "def convert_voc_to_yolo(xml_file):\n",
    "    tree = ET.parse(xml_file)\n",
    "    root = tree.getroot()\n",
    "\n",
    "    size = root.find(\"size\")\n",
    "    w = int(size.find(\"width\").text)\n",
    "    h = int(size.find(\"height\").text)\n",
    "\n",
    "    lines = []\n",
    "\n",
    "    for obj in root.findall(\"object\"):\n",
    "        cls = obj.find(\"name\").text.strip()\n",
    "        if cls not in classes:\n",
    "            print(f\"⚠️ Skipped unknown class: {cls}\")\n",
    "            continue\n",
    "\n",
    "        cls_id = classes.index(cls)\n",
    "        xml_box = obj.find(\"bndbox\")\n",
    "\n",
    "        xmin = int(float(xml_box.find(\"xmin\").text))\n",
    "        ymin = int(float(xml_box.find(\"ymin\").text))\n",
    "        xmax = int(float(xml_box.find(\"xmax\").text))\n",
    "        ymax = int(float(xml_box.find(\"ymax\").text))\n",
    "\n",
    "        x_center = ((xmin + xmax) / 2) / w\n",
    "        y_center = ((ymin + ymax) / 2) / h\n",
    "        box_width = (xmax - xmin) / w\n",
    "        box_height = (ymax - ymin) / h\n",
    "\n",
    "        line = f\"{cls_id} {x_center:.6f} {y_center:.6f} {box_width:.6f} {box_height:.6f}\"\n",
    "        lines.append(line)\n",
    "        print(f\"Added: {line}\")\n",
    "\n",
    "    return lines\n",
    "\n",
    "# 🔁 Process all XML files\n",
    "for xml_file in tqdm(os.listdir(ann_dir)):\n",
    "    if not xml_file.endswith(\".xml\"):\n",
    "        continue\n",
    "\n",
    "    xml_path = os.path.join(ann_dir, xml_file)\n",
    "    yolo_lines = convert_voc_to_yolo(xml_path)\n",
    "\n",
    "    txt_file = os.path.splitext(xml_file)[0] + \".txt\"\n",
    "    with open(os.path.join(label_dir, txt_file), \"w\") as f:\n",
    "        f.write(\"\\n\".join(yolo_lines))\n"
   ]
  },
  {
   "cell_type": "code",
   "execution_count": null,
   "metadata": {
    "execution": {
     "iopub.execute_input": "2025-06-11T18:44:54.350149Z",
     "iopub.status.busy": "2025-06-11T18:44:54.349564Z",
     "iopub.status.idle": "2025-06-11T18:44:54.480229Z",
     "shell.execute_reply": "2025-06-11T18:44:54.479339Z",
     "shell.execute_reply.started": "2025-06-11T18:44:54.350126Z"
    },
    "trusted": true
   },
   "outputs": [],
   "source": [
    "!cat /kaggle/working/valid_labels/0045a7e07dd4fa0e.txt\n"
   ]
  },
  {
   "cell_type": "code",
   "execution_count": null,
   "metadata": {
    "execution": {
     "iopub.execute_input": "2025-06-11T18:45:02.053384Z",
     "iopub.status.busy": "2025-06-11T18:45:02.053077Z",
     "iopub.status.idle": "2025-06-11T18:45:02.096735Z",
     "shell.execute_reply": "2025-06-11T18:45:02.096207Z",
     "shell.execute_reply.started": "2025-06-11T18:45:02.053359Z"
    },
    "trusted": true
   },
   "outputs": [],
   "source": [
    "import shutil\n",
    "\n",
    "src = \"/kaggle/working/valid_labels\"\n",
    "dst = \"/kaggle/working/valid/labels\"\n",
    "os.makedirs(dst, exist_ok=True)\n",
    "\n",
    "for f in os.listdir(src):\n",
    "    shutil.copy(os.path.join(src, f), dst)\n",
    "\n",
    "print(\"All validation labels copied successfully.\")\n"
   ]
  },
  {
   "cell_type": "code",
   "execution_count": null,
   "metadata": {
    "execution": {
     "iopub.execute_input": "2025-06-11T18:45:07.931757Z",
     "iopub.status.busy": "2025-06-11T18:45:07.931002Z",
     "iopub.status.idle": "2025-06-11T18:45:23.064359Z",
     "shell.execute_reply": "2025-06-11T18:45:23.063661Z",
     "shell.execute_reply.started": "2025-06-11T18:45:07.931734Z"
    },
    "trusted": true
   },
   "outputs": [],
   "source": [
    "import os\n",
    "import xml.etree.ElementTree as ET\n",
    "from tqdm import tqdm\n",
    "\n",
    "classes = ['Handgun', 'Knife', 'Short_rifle', 'Rifle']\n",
    "\n",
    "ann_dir = \"/kaggle/input/weapon-detection-dataset-02/train/VOC2007/Annotations\"\n",
    "label_dir = \"/kaggle/working/train_labels\"\n",
    "os.makedirs(label_dir, exist_ok=True)\n",
    "\n",
    "def convert_voc_to_yolo(xml_file):\n",
    "    tree = ET.parse(xml_file)\n",
    "    root = tree.getroot()\n",
    "\n",
    "    size = root.find(\"size\")\n",
    "    w = int(size.find(\"width\").text)\n",
    "    h = int(size.find(\"height\").text)\n",
    "\n",
    "    lines = []\n",
    "\n",
    "    for obj in root.findall(\"object\"):\n",
    "        cls = obj.find(\"name\").text.strip()\n",
    "        if cls not in classes:\n",
    "            continue  # Skip unmatched classes\n",
    "\n",
    "        cls_id = classes.index(cls)\n",
    "        bbox = obj.find(\"bndbox\")\n",
    "\n",
    "        xmin = int(float(bbox.find(\"xmin\").text))\n",
    "        ymin = int(float(bbox.find(\"ymin\").text))\n",
    "        xmax = int(float(bbox.find(\"xmax\").text))\n",
    "        ymax = int(float(bbox.find(\"ymax\").text))\n",
    "\n",
    "        x_center = ((xmin + xmax) / 2) / w\n",
    "        y_center = ((ymin + ymax) / 2) / h\n",
    "        box_width = (xmax - xmin) / w\n",
    "        box_height = (ymax - ymin) / h\n",
    "\n",
    "        line = f\"{cls_id} {x_center:.6f} {y_center:.6f} {box_width:.6f} {box_height:.6f}\"\n",
    "        lines.append(line)\n",
    "\n",
    "    return lines\n",
    "\n",
    "# 🔁 Process all training XMLs\n",
    "for xml_file in tqdm(os.listdir(ann_dir)):\n",
    "    if not xml_file.endswith(\".xml\"):\n",
    "        continue\n",
    "\n",
    "    xml_path = os.path.join(ann_dir, xml_file)\n",
    "    yolo_lines = convert_voc_to_yolo(xml_path)\n",
    "\n",
    "    txt_file = os.path.splitext(xml_file)[0] + \".txt\"\n",
    "    with open(os.path.join(label_dir, txt_file), \"w\") as f:\n",
    "        f.write(\"\\n\".join(yolo_lines))\n"
   ]
  },
  {
   "cell_type": "code",
   "execution_count": null,
   "metadata": {
    "execution": {
     "iopub.execute_input": "2025-06-11T18:45:46.629326Z",
     "iopub.status.busy": "2025-06-11T18:45:46.629025Z",
     "iopub.status.idle": "2025-06-11T18:45:46.692722Z",
     "shell.execute_reply": "2025-06-11T18:45:46.691995Z",
     "shell.execute_reply.started": "2025-06-11T18:45:46.629306Z"
    },
    "trusted": true
   },
   "outputs": [],
   "source": [
    "import os\n",
    "\n",
    "label_dir = \"/kaggle/working/train_labels\"\n",
    "non_empty = [f for f in os.listdir(label_dir) if os.path.getsize(os.path.join(label_dir, f)) > 0]\n",
    "\n",
    "print(f\"Total label files: {len(os.listdir(label_dir))}\")\n",
    "print(f\"Non-empty label files: {len(non_empty)}\")\n"
   ]
  },
  {
   "cell_type": "code",
   "execution_count": null,
   "metadata": {
    "execution": {
     "iopub.execute_input": "2025-06-11T18:46:45.743337Z",
     "iopub.status.busy": "2025-06-11T18:46:45.742568Z",
     "iopub.status.idle": "2025-06-11T18:46:46.711302Z",
     "shell.execute_reply": "2025-06-11T18:46:46.710521Z",
     "shell.execute_reply.started": "2025-06-11T18:46:45.743315Z"
    },
    "trusted": true
   },
   "outputs": [],
   "source": [
    "import shutil\n",
    "\n",
    "src = \"/kaggle/working/train_labels\"\n",
    "dst = \"/kaggle/working/train/labels\"\n",
    "os.makedirs(dst, exist_ok=True)\n",
    "\n",
    "for f in os.listdir(src):\n",
    "    shutil.copy(os.path.join(src, f), dst)"
   ]
  },
  {
   "cell_type": "code",
   "execution_count": null,
   "metadata": {
    "execution": {
     "iopub.execute_input": "2025-06-11T18:46:53.196454Z",
     "iopub.status.busy": "2025-06-11T18:46:53.195729Z",
     "iopub.status.idle": "2025-06-11T19:44:42.756202Z",
     "shell.execute_reply": "2025-06-11T19:44:42.755478Z",
     "shell.execute_reply.started": "2025-06-11T18:46:53.196430Z"
    },
    "trusted": true
   },
   "outputs": [],
   "source": [
    "!yolo task=detect mode=train model=yolov8n.pt data=/kaggle/working/data.yaml epochs=30 imgsz=640"
   ]
  },
  {
   "cell_type": "code",
   "execution_count": null,
   "metadata": {
    "execution": {
     "iopub.execute_input": "2025-06-11T19:49:50.226316Z",
     "iopub.status.busy": "2025-06-11T19:49:50.225477Z",
     "iopub.status.idle": "2025-06-11T19:50:11.191345Z",
     "shell.execute_reply": "2025-06-11T19:50:11.190279Z",
     "shell.execute_reply.started": "2025-06-11T19:49:50.226288Z"
    },
    "trusted": true
   },
   "outputs": [],
   "source": [
    "!yolo task=detect mode=val model=runs/detect/train/weights/best.pt data=/kaggle/working/data.yaml"
   ]
  },
  {
   "cell_type": "code",
   "execution_count": null,
   "metadata": {
    "execution": {
     "iopub.execute_input": "2025-06-11T19:51:02.942461Z",
     "iopub.status.busy": "2025-06-11T19:51:02.941619Z",
     "iopub.status.idle": "2025-06-11T19:51:04.306839Z",
     "shell.execute_reply": "2025-06-11T19:51:04.306076Z",
     "shell.execute_reply.started": "2025-06-11T19:51:02.942428Z"
    },
    "trusted": true
   },
   "outputs": [],
   "source": [
    "from ultralytics import YOLO\n",
    "\n",
    "# Load your trained model\n",
    "model = YOLO(\"runs/detect/train/weights/best.pt\")  # Make sure this file exists\n"
   ]
  },
  {
   "cell_type": "code",
   "execution_count": null,
   "metadata": {
    "execution": {
     "iopub.execute_input": "2025-06-11T19:51:16.328293Z",
     "iopub.status.busy": "2025-06-11T19:51:16.327959Z",
     "iopub.status.idle": "2025-06-11T19:51:18.327436Z",
     "shell.execute_reply": "2025-06-11T19:51:18.326493Z",
     "shell.execute_reply.started": "2025-06-11T19:51:16.328257Z"
    },
    "trusted": true
   },
   "outputs": [],
   "source": [
    "results = model(\"/kaggle/working/valid/images/0045a7e07dd4fa0e.jpg\")\n",
    "results[0].show()\n"
   ]
  },
  {
   "cell_type": "code",
   "execution_count": null,
   "metadata": {
    "execution": {
     "iopub.execute_input": "2025-06-11T19:51:56.168831Z",
     "iopub.status.busy": "2025-06-11T19:51:56.168566Z",
     "iopub.status.idle": "2025-06-11T19:51:56.723371Z",
     "shell.execute_reply": "2025-06-11T19:51:56.722529Z",
     "shell.execute_reply.started": "2025-06-11T19:51:56.168811Z"
    },
    "trusted": true
   },
   "outputs": [],
   "source": [
    "from ultralytics import YOLO\n",
    "from IPython.display import display, Image\n",
    "import os\n",
    "\n",
    "model = YOLO(\"runs/detect/train/weights/best.pt\")\n",
    "\n",
    "image_dir = \"/kaggle/working/valid/images\"\n",
    "output_dir = \"/kaggle/working/predictions\"\n",
    "os.makedirs(output_dir, exist_ok=True)\n",
    "\n",
    "image_paths = [os.path.join(image_dir, f) for f in os.listdir(image_dir) if f.endswith(\".jpg\")]\n",
    "\n",
    "# Inference one by one\n",
    "for i, path in enumerate(image_paths[:10]):  # ← reduce if needed\n",
    "    result = model(path)[0]  # get single result object\n",
    "    save_path = os.path.join(output_dir, f\"pred_{i}.jpg\")\n",
    "    result.save(filename=save_path)\n",
    "    display(Image(filename=save_path))\n",
    "\n",
    "print(\"Individual image predictions completed.\")\n"
   ]
  },
  {
   "cell_type": "code",
   "execution_count": null,
   "metadata": {
    "execution": {
     "iopub.execute_input": "2025-06-11T19:52:21.902081Z",
     "iopub.status.busy": "2025-06-11T19:52:21.901773Z",
     "iopub.status.idle": "2025-06-11T19:52:22.337096Z",
     "shell.execute_reply": "2025-06-11T19:52:22.336368Z",
     "shell.execute_reply.started": "2025-06-11T19:52:21.902058Z"
    },
    "trusted": true
   },
   "outputs": [],
   "source": [
    "import requests\n",
    "from PIL import Image\n",
    "from io import BytesIO\n",
    "from ultralytics import YOLO\n",
    "from IPython.display import Image as IPyImage, display  # renamed to avoid conflict with PIL.Image\n",
    "import os\n",
    "\n",
    "# Step 1: Download image from the web\n",
    "url = \"https://www.outdoorlife.com/wp-content/uploads/2021/07/13/Glock-17m.jpeg?strip=all&quality=85\"\n",
    "response = requests.get(url)\n",
    "\n",
    "# Step 2: Open and save image locally\n",
    "img = Image.open(BytesIO(response.content)).convert(\"RGB\")\n",
    "img_path = \"/kaggle/working/web_handgun.jpg\"\n",
    "img.save(img_path)\n",
    "\n",
    "# Step 3: Load your trained YOLOv8 model\n",
    "model = YOLO(\"runs/detect/train/weights/best.pt\")  # adjust path if needed\n",
    "\n",
    "# Step 4: Run inference on the image\n",
    "result = model(img_path, conf=0.25)[0]  # conf threshold can be adjusted\n",
    "\n",
    "# Step 5: Save prediction result image\n",
    "output_path = \"/kaggle/working/pred_web_handgun.jpg\"\n",
    "result.save(filename=output_path)\n",
    "\n",
    "# Step 6: Display the predicted image\n",
    "display(IPyImage(filename=output_path))\n"
   ]
  },
  {
   "cell_type": "code",
   "execution_count": null,
   "metadata": {
    "execution": {
     "iopub.execute_input": "2025-06-11T19:52:39.117264Z",
     "iopub.status.busy": "2025-06-11T19:52:39.116589Z",
     "iopub.status.idle": "2025-06-11T19:52:39.126830Z",
     "shell.execute_reply": "2025-06-11T19:52:39.126263Z",
     "shell.execute_reply.started": "2025-06-11T19:52:39.117242Z"
    },
    "trusted": true
   },
   "outputs": [],
   "source": [
    "from shutil import copyfile\n",
    "copyfile(\"runs/detect/train/weights/best.pt\", \"/kaggle/working/yolov8-weapon-detector.pt\")"
   ]
  },
  {
   "cell_type": "code",
   "execution_count": null,
   "metadata": {
    "execution": {
     "iopub.execute_input": "2025-06-11T19:52:47.358413Z",
     "iopub.status.busy": "2025-06-11T19:52:47.358148Z",
     "iopub.status.idle": "2025-06-11T19:52:47.373118Z",
     "shell.execute_reply": "2025-06-11T19:52:47.372549Z",
     "shell.execute_reply.started": "2025-06-11T19:52:47.358393Z"
    },
    "trusted": true
   },
   "outputs": [],
   "source": [
    "from shutil import copyfile\n",
    "copyfile(\"runs/detect/train/weights/best.pt\", \"/kaggle/working/yolov8-weapon-detector.pt\")\n"
   ]
  },
  {
   "cell_type": "code",
   "execution_count": null,
   "metadata": {
    "execution": {
     "iopub.execute_input": "2025-06-11T19:52:55.294767Z",
     "iopub.status.busy": "2025-06-11T19:52:55.293887Z",
     "iopub.status.idle": "2025-06-11T19:52:56.049049Z",
     "shell.execute_reply": "2025-06-11T19:52:56.048288Z",
     "shell.execute_reply.started": "2025-06-11T19:52:55.294734Z"
    },
    "trusted": true
   },
   "outputs": [],
   "source": [
    "shutil.make_archive(\"/kaggle/working/yolo_labels\", 'zip', \"/kaggle/working/train/labels\")"
   ]
  },
  {
   "cell_type": "code",
   "execution_count": null,
   "metadata": {
    "execution": {
     "iopub.execute_input": "2025-06-11T20:16:18.296780Z",
     "iopub.status.busy": "2025-06-11T20:16:18.296458Z",
     "iopub.status.idle": "2025-06-11T20:16:21.511630Z",
     "shell.execute_reply": "2025-06-11T20:16:21.510700Z",
     "shell.execute_reply.started": "2025-06-11T20:16:18.296758Z"
    },
    "trusted": true
   },
   "outputs": [],
   "source": [
    "!pip install scikit-learn"
   ]
  },
  {
   "cell_type": "code",
   "execution_count": null,
   "metadata": {
    "execution": {
     "iopub.execute_input": "2025-06-11T20:23:02.093179Z",
     "iopub.status.busy": "2025-06-11T20:23:02.092547Z",
     "iopub.status.idle": "2025-06-11T20:23:02.104617Z",
     "shell.execute_reply": "2025-06-11T20:23:02.103829Z",
     "shell.execute_reply.started": "2025-06-11T20:23:02.093159Z"
    },
    "trusted": true
   },
   "outputs": [],
   "source": [
    "# Step 1: Import required metrics\n",
    "from sklearn.metrics import precision_score, recall_score, f1_score, accuracy_score\n",
    "\n",
    "# Step 2: Define your ground truth and predicted labels\n",
    "# Replace these with your actual labels\n",
    "y_true = [0, 1, 1, 2, 0, 1]  # ground truth class indices\n",
    "y_pred = [0, 0, 1, 2, 0, 1]  # predicted class indices by YOLO\n",
    "\n",
    "# Step 3: Compute metrics\n",
    "precision = precision_score(y_true, y_pred, average='weighted', zero_division=0)\n",
    "recall = recall_score(y_true, y_pred, average='weighted', zero_division=0)\n",
    "f1 = f1_score(y_true, y_pred, average='weighted', zero_division=0)\n",
    "accuracy = accuracy_score(y_true, y_pred)\n",
    "\n",
    "# Step 4: Print results\n",
    "print(f\"Accuracy:  {accuracy:.4f}\")\n",
    "print(f\"Precision: {precision:.4f}\")\n",
    "print(f\"Recall:    {recall:.4f}\")\n",
    "print(f\"F1 Score:  {f1:.4f}\")"
   ]
  },
  {
   "cell_type": "code",
   "execution_count": null,
   "metadata": {
    "execution": {
     "iopub.execute_input": "2025-06-11T20:25:19.570533Z",
     "iopub.status.busy": "2025-06-11T20:25:19.570173Z",
     "iopub.status.idle": "2025-06-11T20:25:23.391050Z",
     "shell.execute_reply": "2025-06-11T20:25:23.390222Z",
     "shell.execute_reply.started": "2025-06-11T20:25:19.570506Z"
    },
    "trusted": true
   },
   "outputs": [],
   "source": [
    "from ultralytics import YOLO\n",
    "import os\n",
    "import random\n",
    "from PIL import Image\n",
    "from IPython.display import display\n",
    "\n",
    "# Load your trained YOLOv8 model\n",
    "model = YOLO(\"runs/detect/train/weights/best.pt\")\n",
    "\n",
    "# Directory where your validation images are stored\n",
    "image_dir = \"/kaggle/working/valid/images\"\n",
    "\n",
    "# List all image filenames\n",
    "image_files = [f for f in os.listdir(image_dir) if f.endswith((\".jpg\", \".jpeg\", \".png\"))]\n",
    "\n",
    "# Ensure we don't exceed the number of available images\n",
    "sample_count = min(25, len(image_files))\n",
    "\n",
    "# Select 25 random images\n",
    "random_images = random.sample(image_files, sample_count)\n",
    "\n",
    "# Directory to save predictions\n",
    "output_dir = \"/kaggle/working/predictions_batch\"\n",
    "os.makedirs(output_dir, exist_ok=True)\n",
    "\n",
    "# Loop through each selected image, predict, save, and display\n",
    "for i, img_name in enumerate(random_images):\n",
    "    image_path = os.path.join(image_dir, img_name)\n",
    "    result = model(image_path)[0]\n",
    "    output_path = os.path.join(output_dir, f\"pred_{i+1}.jpg\")\n",
    "    result.save(filename=output_path)\n",
    "    display(Image.open(output_path))"
   ]
  }
 ],
 "metadata": {
  "kaggle": {
   "accelerator": "nvidiaTeslaT4",
   "dataSources": [
    {
     "datasetId": 6939423,
     "sourceId": 11127153,
     "sourceType": "datasetVersion"
    },
    {
     "datasetId": 6844767,
     "sourceId": 10996010,
     "sourceType": "datasetVersion"
    }
   ],
   "dockerImageVersionId": 31041,
   "isGpuEnabled": true,
   "isInternetEnabled": true,
   "language": "python",
   "sourceType": "notebook"
  },
  "kernelspec": {
   "display_name": "Python 3",
   "language": "python",
   "name": "python3"
  },
  "language_info": {
   "codemirror_mode": {
    "name": "ipython",
    "version": 3
   },
   "file_extension": ".py",
   "mimetype": "text/x-python",
   "name": "python",
   "nbconvert_exporter": "python",
   "pygments_lexer": "ipython3",
   "version": "3.11.11"
  }
 },
 "nbformat": 4,
 "nbformat_minor": 4
}
